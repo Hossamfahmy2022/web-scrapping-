{
 "cells": [
  {
   "cell_type": "code",
   "execution_count": 1,
   "metadata": {},
   "outputs": [],
   "source": [
    "import requests"
   ]
  },
  {
   "cell_type": "code",
   "execution_count": 2,
   "metadata": {},
   "outputs": [
    {
     "data": {
      "text/plain": [
       "<Response [200]>"
      ]
     },
     "execution_count": 2,
     "metadata": {},
     "output_type": "execute_result"
    }
   ],
   "source": [
    "response = requests.get(\"https://gorest.co.in/public-api/users?_format=json&access-token=H4lYmIGLXZkDlpy_w0ZVS5rgcpDXbN7fhRRy\")\n",
    "\n",
    "response"
   ]
  },
  {
   "cell_type": "code",
   "execution_count": 3,
   "metadata": {},
   "outputs": [
    {
     "data": {
      "text/plain": [
       "{'code': 200,\n",
       " 'meta': {'pagination': {'total': 999, 'pages': 100, 'page': 1, 'limit': 10}},\n",
       " 'data': [{'id': 2335,\n",
       "   'name': 'Goutam Dwivedi',\n",
       "   'email': 'goutam_dwivedi@okuneva.com',\n",
       "   'gender': 'male',\n",
       "   'status': 'inactive'},\n",
       "  {'id': 2334,\n",
       "   'name': 'Jay Kapoor',\n",
       "   'email': 'kapoor_jay@reilly.co',\n",
       "   'gender': 'male',\n",
       "   'status': 'active'},\n",
       "  {'id': 2333,\n",
       "   'name': 'Tara Jain DVM',\n",
       "   'email': 'dvm_jain_tara@nader-west.info',\n",
       "   'gender': 'male',\n",
       "   'status': 'active'},\n",
       "  {'id': 2332,\n",
       "   'name': 'Ananta Kocchar',\n",
       "   'email': 'ananta_kocchar@terry.co',\n",
       "   'gender': 'male',\n",
       "   'status': 'inactive'},\n",
       "  {'id': 2331,\n",
       "   'name': 'Vidya Nayar',\n",
       "   'email': 'nayar_vidya@pfeffer.info',\n",
       "   'gender': 'female',\n",
       "   'status': 'active'},\n",
       "  {'id': 2330,\n",
       "   'name': 'Bhisham Saini',\n",
       "   'email': 'saini_bhisham@schumm.org',\n",
       "   'gender': 'female',\n",
       "   'status': 'inactive'},\n",
       "  {'id': 2329,\n",
       "   'name': 'Rukmin Dutta',\n",
       "   'email': 'rukmin_dutta@rath-kutch.co',\n",
       "   'gender': 'female',\n",
       "   'status': 'active'},\n",
       "  {'id': 2328,\n",
       "   'name': 'Devasree Verma',\n",
       "   'email': 'verma_devasree@reilly-kuphal.com',\n",
       "   'gender': 'male',\n",
       "   'status': 'active'},\n",
       "  {'id': 2327,\n",
       "   'name': 'Manik Agarwal',\n",
       "   'email': 'manik_agarwal@gusikowski.io',\n",
       "   'gender': 'male',\n",
       "   'status': 'inactive'},\n",
       "  {'id': 2326,\n",
       "   'name': 'Aaryan Nambeesan DDS',\n",
       "   'email': 'aaryan_dds_nambeesan@gerhold.co',\n",
       "   'gender': 'male',\n",
       "   'status': 'inactive'}]}"
      ]
     },
     "execution_count": 3,
     "metadata": {},
     "output_type": "execute_result"
    }
   ],
   "source": [
    "data = response.json()\n",
    "data"
   ]
  },
  {
   "cell_type": "code",
   "execution_count": 4,
   "metadata": {},
   "outputs": [
    {
     "data": {
      "text/plain": [
       "[{'id': 2335,\n",
       "  'name': 'Goutam Dwivedi',\n",
       "  'email': 'goutam_dwivedi@okuneva.com',\n",
       "  'gender': 'male',\n",
       "  'status': 'inactive'},\n",
       " {'id': 2334,\n",
       "  'name': 'Jay Kapoor',\n",
       "  'email': 'kapoor_jay@reilly.co',\n",
       "  'gender': 'male',\n",
       "  'status': 'active'},\n",
       " {'id': 2333,\n",
       "  'name': 'Tara Jain DVM',\n",
       "  'email': 'dvm_jain_tara@nader-west.info',\n",
       "  'gender': 'male',\n",
       "  'status': 'active'},\n",
       " {'id': 2332,\n",
       "  'name': 'Ananta Kocchar',\n",
       "  'email': 'ananta_kocchar@terry.co',\n",
       "  'gender': 'male',\n",
       "  'status': 'inactive'},\n",
       " {'id': 2331,\n",
       "  'name': 'Vidya Nayar',\n",
       "  'email': 'nayar_vidya@pfeffer.info',\n",
       "  'gender': 'female',\n",
       "  'status': 'active'},\n",
       " {'id': 2330,\n",
       "  'name': 'Bhisham Saini',\n",
       "  'email': 'saini_bhisham@schumm.org',\n",
       "  'gender': 'female',\n",
       "  'status': 'inactive'},\n",
       " {'id': 2329,\n",
       "  'name': 'Rukmin Dutta',\n",
       "  'email': 'rukmin_dutta@rath-kutch.co',\n",
       "  'gender': 'female',\n",
       "  'status': 'active'},\n",
       " {'id': 2328,\n",
       "  'name': 'Devasree Verma',\n",
       "  'email': 'verma_devasree@reilly-kuphal.com',\n",
       "  'gender': 'male',\n",
       "  'status': 'active'},\n",
       " {'id': 2327,\n",
       "  'name': 'Manik Agarwal',\n",
       "  'email': 'manik_agarwal@gusikowski.io',\n",
       "  'gender': 'male',\n",
       "  'status': 'inactive'},\n",
       " {'id': 2326,\n",
       "  'name': 'Aaryan Nambeesan DDS',\n",
       "  'email': 'aaryan_dds_nambeesan@gerhold.co',\n",
       "  'gender': 'male',\n",
       "  'status': 'inactive'}]"
      ]
     },
     "execution_count": 4,
     "metadata": {},
     "output_type": "execute_result"
    }
   ],
   "source": [
    "data['data']"
   ]
  },
  {
   "cell_type": "code",
   "execution_count": 6,
   "metadata": {},
   "outputs": [
    {
     "data": {
      "text/plain": [
       "2335"
      ]
     },
     "execution_count": 6,
     "metadata": {},
     "output_type": "execute_result"
    }
   ],
   "source": [
    "data['data'][0]['id']"
   ]
  },
  {
   "cell_type": "code",
   "execution_count": 7,
   "metadata": {},
   "outputs": [
    {
     "name": "stdout",
     "output_type": "stream",
     "text": [
      "ID: 2335 | Name: Goutam Dwivedi | Email: goutam_dwivedi@okuneva.com | Gender: male | Status: inactive\n",
      "ID: 2334 | Name: Jay Kapoor | Email: kapoor_jay@reilly.co | Gender: male | Status: active\n",
      "ID: 2333 | Name: Tara Jain DVM | Email: dvm_jain_tara@nader-west.info | Gender: male | Status: active\n",
      "ID: 2332 | Name: Ananta Kocchar | Email: ananta_kocchar@terry.co | Gender: male | Status: inactive\n",
      "ID: 2331 | Name: Vidya Nayar | Email: nayar_vidya@pfeffer.info | Gender: female | Status: active\n",
      "ID: 2330 | Name: Bhisham Saini | Email: saini_bhisham@schumm.org | Gender: female | Status: inactive\n",
      "ID: 2329 | Name: Rukmin Dutta | Email: rukmin_dutta@rath-kutch.co | Gender: female | Status: active\n",
      "ID: 2328 | Name: Devasree Verma | Email: verma_devasree@reilly-kuphal.com | Gender: male | Status: active\n",
      "ID: 2327 | Name: Manik Agarwal | Email: manik_agarwal@gusikowski.io | Gender: male | Status: inactive\n",
      "ID: 2326 | Name: Aaryan Nambeesan DDS | Email: aaryan_dds_nambeesan@gerhold.co | Gender: male | Status: inactive\n"
     ]
    }
   ],
   "source": [
    "for employee in data['data']:\n",
    "    id = employee[\"id\"]\n",
    "    name = employee[\"name\"]\n",
    "    email = employee[\"email\"]\n",
    "    gender = employee[\"gender\"]\n",
    "    status = employee[\"status\"]\n",
    "\n",
    "    print(f\"ID: {id} | Name: {name} | Email: {email} | Gender: {gender} | Status: {status}\")"
   ]
  },
  {
   "cell_type": "code",
   "execution_count": 9,
   "metadata": {},
   "outputs": [],
   "source": [
    "with open(\"data.csv\", \"w\") as f:\n",
    "    f.write(\"id,name,email,gender,active\\n\")\n",
    "\n",
    "    for employee in data['data']:\n",
    "        id = employee[\"id\"]\n",
    "        name = employee[\"name\"]\n",
    "        email = employee[\"email\"]\n",
    "        gender = employee[\"gender\"]\n",
    "        active = True if employee[\"status\"] == \"active\" else False\n",
    "\n",
    "        f.write(f\"{id},{name},{email},{gender},{active}\\n\")"
   ]
  },
  {
   "cell_type": "code",
   "execution_count": 12,
   "metadata": {},
   "outputs": [],
   "source": [
    "# Reading CSV files using traditional method\n",
    "import csv\n",
    "\n",
    "file = open(\"data.csv\")\n",
    "csv_file = csv.DictReader(file.readlines())"
   ]
  },
  {
   "cell_type": "code",
   "execution_count": 14,
   "metadata": {},
   "outputs": [
    {
     "data": {
      "text/html": [
       "<div>\n",
       "<style scoped>\n",
       "    .dataframe tbody tr th:only-of-type {\n",
       "        vertical-align: middle;\n",
       "    }\n",
       "\n",
       "    .dataframe tbody tr th {\n",
       "        vertical-align: top;\n",
       "    }\n",
       "\n",
       "    .dataframe thead th {\n",
       "        text-align: right;\n",
       "    }\n",
       "</style>\n",
       "<table border=\"1\" class=\"dataframe\">\n",
       "  <thead>\n",
       "    <tr style=\"text-align: right;\">\n",
       "      <th></th>\n",
       "      <th>id</th>\n",
       "      <th>name</th>\n",
       "      <th>email</th>\n",
       "      <th>gender</th>\n",
       "      <th>active</th>\n",
       "    </tr>\n",
       "  </thead>\n",
       "  <tbody>\n",
       "    <tr>\n",
       "      <th>0</th>\n",
       "      <td>2335</td>\n",
       "      <td>Goutam Dwivedi</td>\n",
       "      <td>goutam_dwivedi@okuneva.com</td>\n",
       "      <td>male</td>\n",
       "      <td>False</td>\n",
       "    </tr>\n",
       "    <tr>\n",
       "      <th>1</th>\n",
       "      <td>2334</td>\n",
       "      <td>Jay Kapoor</td>\n",
       "      <td>kapoor_jay@reilly.co</td>\n",
       "      <td>male</td>\n",
       "      <td>True</td>\n",
       "    </tr>\n",
       "    <tr>\n",
       "      <th>2</th>\n",
       "      <td>2333</td>\n",
       "      <td>Tara Jain DVM</td>\n",
       "      <td>dvm_jain_tara@nader-west.info</td>\n",
       "      <td>male</td>\n",
       "      <td>True</td>\n",
       "    </tr>\n",
       "    <tr>\n",
       "      <th>3</th>\n",
       "      <td>2332</td>\n",
       "      <td>Ananta Kocchar</td>\n",
       "      <td>ananta_kocchar@terry.co</td>\n",
       "      <td>male</td>\n",
       "      <td>False</td>\n",
       "    </tr>\n",
       "    <tr>\n",
       "      <th>4</th>\n",
       "      <td>2331</td>\n",
       "      <td>Vidya Nayar</td>\n",
       "      <td>nayar_vidya@pfeffer.info</td>\n",
       "      <td>female</td>\n",
       "      <td>True</td>\n",
       "    </tr>\n",
       "    <tr>\n",
       "      <th>5</th>\n",
       "      <td>2330</td>\n",
       "      <td>Bhisham Saini</td>\n",
       "      <td>saini_bhisham@schumm.org</td>\n",
       "      <td>female</td>\n",
       "      <td>False</td>\n",
       "    </tr>\n",
       "    <tr>\n",
       "      <th>6</th>\n",
       "      <td>2329</td>\n",
       "      <td>Rukmin Dutta</td>\n",
       "      <td>rukmin_dutta@rath-kutch.co</td>\n",
       "      <td>female</td>\n",
       "      <td>True</td>\n",
       "    </tr>\n",
       "    <tr>\n",
       "      <th>7</th>\n",
       "      <td>2328</td>\n",
       "      <td>Devasree Verma</td>\n",
       "      <td>verma_devasree@reilly-kuphal.com</td>\n",
       "      <td>male</td>\n",
       "      <td>True</td>\n",
       "    </tr>\n",
       "    <tr>\n",
       "      <th>8</th>\n",
       "      <td>2327</td>\n",
       "      <td>Manik Agarwal</td>\n",
       "      <td>manik_agarwal@gusikowski.io</td>\n",
       "      <td>male</td>\n",
       "      <td>False</td>\n",
       "    </tr>\n",
       "    <tr>\n",
       "      <th>9</th>\n",
       "      <td>2326</td>\n",
       "      <td>Aaryan Nambeesan DDS</td>\n",
       "      <td>aaryan_dds_nambeesan@gerhold.co</td>\n",
       "      <td>male</td>\n",
       "      <td>False</td>\n",
       "    </tr>\n",
       "  </tbody>\n",
       "</table>\n",
       "</div>"
      ],
      "text/plain": [
       "     id                  name                             email  gender  \\\n",
       "0  2335        Goutam Dwivedi        goutam_dwivedi@okuneva.com    male   \n",
       "1  2334            Jay Kapoor              kapoor_jay@reilly.co    male   \n",
       "2  2333         Tara Jain DVM     dvm_jain_tara@nader-west.info    male   \n",
       "3  2332        Ananta Kocchar           ananta_kocchar@terry.co    male   \n",
       "4  2331           Vidya Nayar          nayar_vidya@pfeffer.info  female   \n",
       "5  2330         Bhisham Saini          saini_bhisham@schumm.org  female   \n",
       "6  2329          Rukmin Dutta        rukmin_dutta@rath-kutch.co  female   \n",
       "7  2328        Devasree Verma  verma_devasree@reilly-kuphal.com    male   \n",
       "8  2327         Manik Agarwal       manik_agarwal@gusikowski.io    male   \n",
       "9  2326  Aaryan Nambeesan DDS   aaryan_dds_nambeesan@gerhold.co    male   \n",
       "\n",
       "   active  \n",
       "0   False  \n",
       "1    True  \n",
       "2    True  \n",
       "3   False  \n",
       "4    True  \n",
       "5   False  \n",
       "6    True  \n",
       "7    True  \n",
       "8   False  \n",
       "9   False  "
      ]
     },
     "execution_count": 14,
     "metadata": {},
     "output_type": "execute_result"
    }
   ],
   "source": [
    "# Reading CSV using Pandas module\n",
    "import pandas as pd\n",
    "\n",
    "df = pd.read_csv(\"data.csv\")\n",
    "df"
   ]
  },
  {
   "cell_type": "code",
   "execution_count": null,
   "metadata": {},
   "outputs": [],
   "source": []
  }
 ],
 "metadata": {
  "kernelspec": {
   "display_name": "Python 3.9.10 64-bit (microsoft store)",
   "language": "python",
   "name": "python3"
  },
  "language_info": {
   "codemirror_mode": {
    "name": "ipython",
    "version": 3
   },
   "file_extension": ".py",
   "mimetype": "text/x-python",
   "name": "python",
   "nbconvert_exporter": "python",
   "pygments_lexer": "ipython3",
   "version": "3.9.10 (tags/v3.9.10:f2f3f53, Jan 17 2022, 15:14:21) [MSC v.1929 64 bit (AMD64)]"
  },
  "orig_nbformat": 4,
  "vscode": {
   "interpreter": {
    "hash": "d228cf3d11c5bb5c228f8fe30ace658cee5b67800ac159bde9428e7d1ba8c3f7"
   }
  }
 },
 "nbformat": 4,
 "nbformat_minor": 2
}
