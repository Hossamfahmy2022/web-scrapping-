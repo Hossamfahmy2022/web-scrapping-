{
 "cells": [
  {
   "cell_type": "code",
   "execution_count": 10,
   "metadata": {},
   "outputs": [],
   "source": [
    "import requests\n",
    "from bs4 import BeautifulSoup"
   ]
  },
  {
   "cell_type": "code",
   "execution_count": 2,
   "metadata": {},
   "outputs": [
    {
     "data": {
      "text/plain": [
       "<Response [200]>"
      ]
     },
     "execution_count": 2,
     "metadata": {},
     "output_type": "execute_result"
    }
   ],
   "source": [
    "response = requests.get(\"https://jekso.github.io/scrapping-example/index.html\")\n",
    "response"
   ]
  },
  {
   "cell_type": "code",
   "execution_count": 7,
   "metadata": {},
   "outputs": [
    {
     "name": "stdout",
     "output_type": "stream",
     "text": [
      "<!DOCTYPE html>\n",
      "\n",
      "<html>\n",
      "\n",
      "    <head>\n",
      "        <title>My First HTML Page</title>\n",
      "\n",
      "        <style>\n",
      "\n",
      "            p {\n",
      "                color: green;\n",
      "                \n",
      "            }\n",
      "\n",
      "            h1 {\n",
      "                color:blue;\n",
      "                text-shadow: 2px 2px 5px red;\n",
      "            }\n",
      "\n",
      "\n",
      "            img {\n",
      "                width: 200px;\n",
      "                height: 200px;\n",
      "            }\n",
      "\n",
      "\n",
      "            select {\n",
      "                width: 300px;\n",
      "                height: 50px;\n",
      "                background-color: orange;\n",
      "            }\n",
      "\n",
      "            div#bigred {\n",
      "                width: 100%%;\n",
      "                height: 200px;\n",
      "                background-color: red;\n",
      "                margin: 20px;\n",
      "                color: white;\n",
      "            }\n",
      "\n",
      "\n",
      "            div#smallblue {\n",
      "                width: 100%%;\n",
      "                height: 100px;\n",
      "                background-color: blue;\n",
      "                margin: 20px;\n",
      "                color: yellow;\n",
      "            }\n",
      "\n",
      "            li.redul {\n",
      "                color: red;\n",
      "            }\n",
      "\n",
      "            li.blueol {\n",
      "                color:blue;\n",
      "            }\n",
      "\n",
      "            .h2_orange {\n",
      "                color: orange;\n",
      "            }\n",
      "\n",
      "            .jupyter_img {\n",
      "                width: 200px;\n",
      "                height: 200px;\n",
      "                border: solid green 3px;\n",
      "            }\n",
      "\n",
      "            .bg-yellow {\n",
      "                background-color: yellow;\n",
      "            }\n",
      "\n",
      "        </style>\n",
      "\n",
      "    </head>\n",
      "\n",
      "\n",
      "    <body>\n",
      "\n",
      "        <p>Iam a paragrapph</p>\n",
      "\n",
      "        <br><hr><br>\n",
      "\n",
      "        <h1>My First H1 Header</h1>\n",
      "        <h1>My Second H1 Header</h1>\n",
      "\n",
      "        <h2 class=\"h2_orange bg-yellow\">My First H2 Header</h2>\n",
      "        <h2 class=\"h2_orange\">My Second H2 Header</h2>\n",
      "        <h2>My 3rd H2 Header</h2>\n",
      "\n",
      "\n",
      "        <br><hr><br>\n",
      "\n",
      "        <ul>\n",
      "            <li class='redul'> Milk </li>\n",
      "            <li class='redul'> Oranges </li>\n",
      "        </ul>\n",
      "\n",
      "        <br><hr><br>\n",
      "\n",
      "        <ol>\n",
      "            <li class='blueol'> Milk </li>\n",
      "            <li class='blueol'> Oranges </li>\n",
      "        </ol>\n",
      "\n",
      "        <br><hr><br>\n",
      "\n",
      "        <img src=\"my_img.png\" class=\"jupyter_img\">\n",
      "        \n",
      "        <br><hr><br>\n",
      "\n",
      "        <a href=\"http://www.google.com\">Go To Google</a>\n",
      "\n",
      "        <br><hr><br>\n",
      "\n",
      "        <form>\n",
      "            Username: <input type=\"text\" class=\"bg-yellow\">\n",
      "            <br><br>\n",
      "            Passowrd: <input type=\"password\">\n",
      "            <br><br>\n",
      "\n",
      "            <select>\n",
      "                <option value=\"volvo\">Volvo</option>\n",
      "                <option value=\"saab\">Saab</option>\n",
      "                <option value=\"fiat\">Fiat</option>\n",
      "                <option value=\"audi\">Audi</option>\n",
      "            </select>\n",
      "            <br><br>\n",
      "\n",
      "            <input type=\"checkbox\">\n",
      "            I agree for the terms\n",
      "            <br><br>\n",
      "\n",
      "            <input type=\"submit\" value=\"Search\">\n",
      "        </form>\n",
      "\n",
      "        <br><hr><br>\n",
      "\n",
      "        <table>\n",
      "            <tr>\n",
      "                <th>House Size</th>\n",
      "                <th>Num of Rooms</th>\n",
      "                <th class=\"bg-yellow\">Has Garden</th>\n",
      "                <th>Price</th>\n",
      "            </tr>\n",
      "            <tr>\n",
      "                <td>120</td>\n",
      "                <td>3</td>\n",
      "                <td>yes</td>\n",
      "                <td>500000</td>\n",
      "            </tr>\n",
      "            <tr>\n",
      "                <td>140</td>\n",
      "                <td>4</td>\n",
      "                <td class=\"bg-yellow\">no</td>\n",
      "                <td>750000</td>\n",
      "            </tr>\n",
      "            <tr>\n",
      "                <td>80</td>\n",
      "                <td>1</td>\n",
      "                <td>no</td>\n",
      "                <td>300000</td>\n",
      "            </tr>\n",
      "        </table>\n",
      "\n",
      "\n",
      "        <br><hr><br>\n",
      "        \n",
      "\n",
      "\n",
      "\n",
      "        <iframe width=\"420\" height=\"345\" src=\"https://www.youtube.com/embed/tgbNymZ7vqY\"></iframe>\n",
      "\n",
      "\n",
      "        <br><hr><br>\n",
      "\n",
      "\n",
      "        <div id='bigred'>\n",
      "            Hello world\n",
      "        </div>\n",
      "\n",
      "        <br><hr><br>\n",
      "\n",
      "\n",
      "        <div id=\"smallblue\">\n",
      "            Hello python\n",
      "            <p>Iam a paragrapph</p>\n",
      "        </div>\n",
      "\n",
      "\n",
      "        \n",
      "\n",
      "    </body>\n",
      "\n",
      "\n",
      "</html>\n",
      "\n",
      "\n"
     ]
    }
   ],
   "source": [
    "print(response.text)"
   ]
  },
  {
   "cell_type": "code",
   "execution_count": 9,
   "metadata": {},
   "outputs": [
    {
     "name": "stdout",
     "output_type": "stream",
     "text": [
      "Requirement already satisfied: bs4 in c:\\users\\ommar\\appdata\\local\\programs\\python\\python39\\lib\\site-packages (0.0.1)\n",
      "Requirement already satisfied: beautifulsoup4 in c:\\users\\ommar\\appdata\\local\\programs\\python\\python39\\lib\\site-packages (from bs4) (4.10.0)\n",
      "Requirement already satisfied: soupsieve>1.2 in c:\\users\\ommar\\appdata\\local\\programs\\python\\python39\\lib\\site-packages (from beautifulsoup4->bs4) (2.3.1)\n",
      "Note: you may need to restart the kernel to use updated packages.\n"
     ]
    },
    {
     "name": "stderr",
     "output_type": "stream",
     "text": [
      "WARNING: You are using pip version 21.1.3; however, version 22.3.1 is available.\n",
      "You should consider upgrading via the 'c:\\Users\\ommar\\AppData\\Local\\Programs\\Python\\Python39\\python.exe -m pip install --upgrade pip' command.\n"
     ]
    }
   ],
   "source": [
    "# Install BeautifulSoup library\n",
    "%pip install bs4"
   ]
  },
  {
   "cell_type": "code",
   "execution_count": 11,
   "metadata": {},
   "outputs": [
    {
     "data": {
      "text/plain": [
       "str"
      ]
     },
     "execution_count": 11,
     "metadata": {},
     "output_type": "execute_result"
    }
   ],
   "source": [
    "type(response.text)"
   ]
  },
  {
   "cell_type": "code",
   "execution_count": 12,
   "metadata": {},
   "outputs": [],
   "source": [
    "soup = BeautifulSoup(response.text, 'html.parser')"
   ]
  },
  {
   "cell_type": "code",
   "execution_count": 14,
   "metadata": {},
   "outputs": [
    {
     "name": "stdout",
     "output_type": "stream",
     "text": [
      "<!DOCTYPE html>\n",
      "<html>\n",
      " <head>\n",
      "  <title>\n",
      "   My First HTML Page\n",
      "  </title>\n",
      "  <style>\n",
      "   p {\n",
      "                color: green;\n",
      "                \n",
      "            }\n",
      "\n",
      "            h1 {\n",
      "                color:blue;\n",
      "                text-shadow: 2px 2px 5px red;\n",
      "            }\n",
      "\n",
      "\n",
      "            img {\n",
      "                width: 200px;\n",
      "                height: 200px;\n",
      "            }\n",
      "\n",
      "\n",
      "            select {\n",
      "                width: 300px;\n",
      "                height: 50px;\n",
      "                background-color: orange;\n",
      "            }\n",
      "\n",
      "            div#bigred {\n",
      "                width: 100%%;\n",
      "                height: 200px;\n",
      "                background-color: red;\n",
      "                margin: 20px;\n",
      "                color: white;\n",
      "            }\n",
      "\n",
      "\n",
      "            div#smallblue {\n",
      "                width: 100%%;\n",
      "                height: 100px;\n",
      "                background-color: blue;\n",
      "                margin: 20px;\n",
      "                color: yellow;\n",
      "            }\n",
      "\n",
      "            li.redul {\n",
      "                color: red;\n",
      "            }\n",
      "\n",
      "            li.blueol {\n",
      "                color:blue;\n",
      "            }\n",
      "\n",
      "            .h2_orange {\n",
      "                color: orange;\n",
      "            }\n",
      "\n",
      "            .jupyter_img {\n",
      "                width: 200px;\n",
      "                height: 200px;\n",
      "                border: solid green 3px;\n",
      "            }\n",
      "\n",
      "            .bg-yellow {\n",
      "                background-color: yellow;\n",
      "            }\n",
      "  </style>\n",
      " </head>\n",
      " <body>\n",
      "  <p>\n",
      "   Iam a paragrapph\n",
      "  </p>\n",
      "  <br/>\n",
      "  <hr/>\n",
      "  <br/>\n",
      "  <h1>\n",
      "   My First H1 Header\n",
      "  </h1>\n",
      "  <h1>\n",
      "   My Second H1 Header\n",
      "  </h1>\n",
      "  <h2 class=\"h2_orange bg-yellow\">\n",
      "   My First H2 Header\n",
      "  </h2>\n",
      "  <h2 class=\"h2_orange\">\n",
      "   My Second H2 Header\n",
      "  </h2>\n",
      "  <h2>\n",
      "   My 3rd H2 Header\n",
      "  </h2>\n",
      "  <br/>\n",
      "  <hr/>\n",
      "  <br/>\n",
      "  <ul>\n",
      "   <li class=\"redul\">\n",
      "    Milk\n",
      "   </li>\n",
      "   <li class=\"redul\">\n",
      "    Oranges\n",
      "   </li>\n",
      "  </ul>\n",
      "  <br/>\n",
      "  <hr/>\n",
      "  <br/>\n",
      "  <ol>\n",
      "   <li class=\"blueol\">\n",
      "    Milk\n",
      "   </li>\n",
      "   <li class=\"blueol\">\n",
      "    Oranges\n",
      "   </li>\n",
      "  </ol>\n",
      "  <br/>\n",
      "  <hr/>\n",
      "  <br/>\n",
      "  <img class=\"jupyter_img\" src=\"my_img.png\"/>\n",
      "  <br/>\n",
      "  <hr/>\n",
      "  <br/>\n",
      "  <a href=\"http://www.google.com\">\n",
      "   Go To Google\n",
      "  </a>\n",
      "  <br/>\n",
      "  <hr/>\n",
      "  <br/>\n",
      "  <form>\n",
      "   Username:\n",
      "   <input class=\"bg-yellow\" type=\"text\"/>\n",
      "   <br/>\n",
      "   <br/>\n",
      "   Passowrd:\n",
      "   <input type=\"password\"/>\n",
      "   <br/>\n",
      "   <br/>\n",
      "   <select>\n",
      "    <option value=\"volvo\">\n",
      "     Volvo\n",
      "    </option>\n",
      "    <option value=\"saab\">\n",
      "     Saab\n",
      "    </option>\n",
      "    <option value=\"fiat\">\n",
      "     Fiat\n",
      "    </option>\n",
      "    <option value=\"audi\">\n",
      "     Audi\n",
      "    </option>\n",
      "   </select>\n",
      "   <br/>\n",
      "   <br/>\n",
      "   <input type=\"checkbox\"/>\n",
      "   I agree for the terms\n",
      "   <br/>\n",
      "   <br/>\n",
      "   <input type=\"submit\" value=\"Search\"/>\n",
      "  </form>\n",
      "  <br/>\n",
      "  <hr/>\n",
      "  <br/>\n",
      "  <table>\n",
      "   <tr>\n",
      "    <th>\n",
      "     House Size\n",
      "    </th>\n",
      "    <th>\n",
      "     Num of Rooms\n",
      "    </th>\n",
      "    <th class=\"bg-yellow\">\n",
      "     Has Garden\n",
      "    </th>\n",
      "    <th>\n",
      "     Price\n",
      "    </th>\n",
      "   </tr>\n",
      "   <tr>\n",
      "    <td>\n",
      "     120\n",
      "    </td>\n",
      "    <td>\n",
      "     3\n",
      "    </td>\n",
      "    <td>\n",
      "     yes\n",
      "    </td>\n",
      "    <td>\n",
      "     500000\n",
      "    </td>\n",
      "   </tr>\n",
      "   <tr>\n",
      "    <td>\n",
      "     140\n",
      "    </td>\n",
      "    <td>\n",
      "     4\n",
      "    </td>\n",
      "    <td class=\"bg-yellow\">\n",
      "     no\n",
      "    </td>\n",
      "    <td>\n",
      "     750000\n",
      "    </td>\n",
      "   </tr>\n",
      "   <tr>\n",
      "    <td>\n",
      "     80\n",
      "    </td>\n",
      "    <td>\n",
      "     1\n",
      "    </td>\n",
      "    <td>\n",
      "     no\n",
      "    </td>\n",
      "    <td>\n",
      "     300000\n",
      "    </td>\n",
      "   </tr>\n",
      "  </table>\n",
      "  <br/>\n",
      "  <hr/>\n",
      "  <br/>\n",
      "  <iframe height=\"345\" src=\"https://www.youtube.com/embed/tgbNymZ7vqY\" width=\"420\">\n",
      "  </iframe>\n",
      "  <br/>\n",
      "  <hr/>\n",
      "  <br/>\n",
      "  <div id=\"bigred\">\n",
      "   Hello world\n",
      "  </div>\n",
      "  <br/>\n",
      "  <hr/>\n",
      "  <br/>\n",
      "  <div id=\"smallblue\">\n",
      "   Hello python\n",
      "   <p>\n",
      "    Iam a paragrapph\n",
      "   </p>\n",
      "  </div>\n",
      " </body>\n",
      "</html>\n",
      "\n"
     ]
    }
   ],
   "source": [
    "print(soup.prettify())"
   ]
  },
  {
   "cell_type": "markdown",
   "metadata": {},
   "source": [
    "## Get the Paragraph"
   ]
  },
  {
   "cell_type": "code",
   "execution_count": 16,
   "metadata": {},
   "outputs": [
    {
     "data": {
      "text/plain": [
       "<p>Iam a paragrapph</p>"
      ]
     },
     "execution_count": 16,
     "metadata": {},
     "output_type": "execute_result"
    }
   ],
   "source": [
    "p = soup.find('p')\n",
    "p"
   ]
  },
  {
   "cell_type": "code",
   "execution_count": 17,
   "metadata": {},
   "outputs": [
    {
     "data": {
      "text/plain": [
       "bs4.element.Tag"
      ]
     },
     "execution_count": 17,
     "metadata": {},
     "output_type": "execute_result"
    }
   ],
   "source": [
    "type(p)"
   ]
  },
  {
   "cell_type": "code",
   "execution_count": 18,
   "metadata": {},
   "outputs": [
    {
     "data": {
      "text/plain": [
       "'Iam a paragrapph'"
      ]
     },
     "execution_count": 18,
     "metadata": {},
     "output_type": "execute_result"
    }
   ],
   "source": [
    "p.get_text()"
   ]
  },
  {
   "cell_type": "code",
   "execution_count": 19,
   "metadata": {},
   "outputs": [
    {
     "data": {
      "text/plain": [
       "[<p>Iam a paragrapph</p>, <p>Iam a paragrapph</p>]"
      ]
     },
     "execution_count": 19,
     "metadata": {},
     "output_type": "execute_result"
    }
   ],
   "source": [
    "all_p = soup.find_all('p')\n",
    "all_p"
   ]
  },
  {
   "cell_type": "code",
   "execution_count": 20,
   "metadata": {},
   "outputs": [
    {
     "data": {
      "text/plain": [
       "<p>Iam a paragrapph</p>"
      ]
     },
     "execution_count": 20,
     "metadata": {},
     "output_type": "execute_result"
    }
   ],
   "source": [
    "all_p[0]"
   ]
  },
  {
   "cell_type": "code",
   "execution_count": 21,
   "metadata": {},
   "outputs": [
    {
     "data": {
      "text/plain": [
       "'Iam a paragrapph'"
      ]
     },
     "execution_count": 21,
     "metadata": {},
     "output_type": "execute_result"
    }
   ],
   "source": [
    "all_p[0].get_text()"
   ]
  },
  {
   "cell_type": "markdown",
   "metadata": {},
   "source": [
    "## Get H1 Headers"
   ]
  },
  {
   "cell_type": "code",
   "execution_count": 22,
   "metadata": {},
   "outputs": [
    {
     "data": {
      "text/plain": [
       "[<h1>My First H1 Header</h1>, <h1>My Second H1 Header</h1>]"
      ]
     },
     "execution_count": 22,
     "metadata": {},
     "output_type": "execute_result"
    }
   ],
   "source": [
    "h1 = soup.find_all('h1')\n",
    "h1"
   ]
  },
  {
   "cell_type": "code",
   "execution_count": 23,
   "metadata": {},
   "outputs": [
    {
     "name": "stdout",
     "output_type": "stream",
     "text": [
      "My First H1 Header\n",
      "My Second H1 Header\n"
     ]
    }
   ],
   "source": [
    "for header in h1:\n",
    "    print(header.get_text())"
   ]
  },
  {
   "cell_type": "markdown",
   "metadata": {},
   "source": [
    "## Get Lists"
   ]
  },
  {
   "cell_type": "code",
   "execution_count": 25,
   "metadata": {},
   "outputs": [
    {
     "data": {
      "text/plain": [
       "[<li class=\"redul\"> Milk </li>,\n",
       " <li class=\"redul\"> Oranges </li>,\n",
       " <li class=\"blueol\"> Milk </li>,\n",
       " <li class=\"blueol\"> Oranges </li>]"
      ]
     },
     "execution_count": 25,
     "metadata": {},
     "output_type": "execute_result"
    }
   ],
   "source": [
    "soup.find_all('li')"
   ]
  },
  {
   "cell_type": "code",
   "execution_count": 26,
   "metadata": {},
   "outputs": [
    {
     "data": {
      "text/plain": [
       "<ul>\n",
       "<li class=\"redul\"> Milk </li>\n",
       "<li class=\"redul\"> Oranges </li>\n",
       "</ul>"
      ]
     },
     "execution_count": 26,
     "metadata": {},
     "output_type": "execute_result"
    }
   ],
   "source": [
    "ul = soup.find('ul')\n",
    "ul"
   ]
  },
  {
   "cell_type": "code",
   "execution_count": 27,
   "metadata": {},
   "outputs": [
    {
     "data": {
      "text/plain": [
       "[<li class=\"redul\"> Milk </li>, <li class=\"redul\"> Oranges </li>]"
      ]
     },
     "execution_count": 27,
     "metadata": {},
     "output_type": "execute_result"
    }
   ],
   "source": [
    "ul_items = ul.find_all('li')\n",
    "ul_items"
   ]
  },
  {
   "cell_type": "code",
   "execution_count": 28,
   "metadata": {},
   "outputs": [
    {
     "name": "stdout",
     "output_type": "stream",
     "text": [
      " Milk \n",
      " Oranges \n"
     ]
    }
   ],
   "source": [
    "for item in ul_items:\n",
    "    print(item.get_text())"
   ]
  },
  {
   "cell_type": "code",
   "execution_count": 29,
   "metadata": {},
   "outputs": [
    {
     "data": {
      "text/plain": [
       "[<ol>\n",
       " <li class=\"blueol\"> Milk </li>\n",
       " <li class=\"blueol\"> Oranges </li>\n",
       " </ol>]"
      ]
     },
     "execution_count": 29,
     "metadata": {},
     "output_type": "execute_result"
    }
   ],
   "source": [
    "ol = soup.find_all('ol')\n",
    "ol"
   ]
  },
  {
   "cell_type": "code",
   "execution_count": 30,
   "metadata": {},
   "outputs": [
    {
     "data": {
      "text/plain": [
       "<li class=\"blueol\"> Milk </li>"
      ]
     },
     "execution_count": 30,
     "metadata": {},
     "output_type": "execute_result"
    }
   ],
   "source": [
    "item = ol[0].find('li')\n",
    "item"
   ]
  },
  {
   "cell_type": "code",
   "execution_count": 32,
   "metadata": {},
   "outputs": [
    {
     "data": {
      "text/plain": [
       "' Milk '"
      ]
     },
     "execution_count": 32,
     "metadata": {},
     "output_type": "execute_result"
    }
   ],
   "source": [
    "item.get_text()"
   ]
  },
  {
   "cell_type": "code",
   "execution_count": 33,
   "metadata": {},
   "outputs": [
    {
     "data": {
      "text/plain": [
       "{'class': ['blueol']}"
      ]
     },
     "execution_count": 33,
     "metadata": {},
     "output_type": "execute_result"
    }
   ],
   "source": [
    "item.attrs"
   ]
  },
  {
   "cell_type": "code",
   "execution_count": 34,
   "metadata": {},
   "outputs": [
    {
     "data": {
      "text/plain": [
       "['blueol']"
      ]
     },
     "execution_count": 34,
     "metadata": {},
     "output_type": "execute_result"
    }
   ],
   "source": [
    "item.attrs['class']"
   ]
  },
  {
   "cell_type": "code",
   "execution_count": 35,
   "metadata": {},
   "outputs": [
    {
     "data": {
      "text/plain": [
       "'blueol'"
      ]
     },
     "execution_count": 35,
     "metadata": {},
     "output_type": "execute_result"
    }
   ],
   "source": [
    "item.attrs['class'][0]"
   ]
  },
  {
   "cell_type": "markdown",
   "metadata": {},
   "source": [
    "## Get Image"
   ]
  },
  {
   "cell_type": "code",
   "execution_count": 24,
   "metadata": {},
   "outputs": [
    {
     "data": {
      "text/plain": [
       "[<img class=\"jupyter_img\" src=\"my_img.png\"/>]"
      ]
     },
     "execution_count": 24,
     "metadata": {},
     "output_type": "execute_result"
    }
   ],
   "source": [
    "imgs = soup.find_all('img')\n",
    "imgs"
   ]
  },
  {
   "cell_type": "code",
   "execution_count": 36,
   "metadata": {},
   "outputs": [
    {
     "data": {
      "text/plain": [
       "<img class=\"jupyter_img\" src=\"my_img.png\"/>"
      ]
     },
     "execution_count": 36,
     "metadata": {},
     "output_type": "execute_result"
    }
   ],
   "source": [
    "imgs[0]"
   ]
  },
  {
   "cell_type": "code",
   "execution_count": 38,
   "metadata": {},
   "outputs": [
    {
     "data": {
      "text/plain": [
       "'my_img.png'"
      ]
     },
     "execution_count": 38,
     "metadata": {},
     "output_type": "execute_result"
    }
   ],
   "source": [
    "imgs[0].attrs['src']"
   ]
  },
  {
   "cell_type": "markdown",
   "metadata": {},
   "source": [
    "## Get table"
   ]
  },
  {
   "cell_type": "code",
   "execution_count": 39,
   "metadata": {},
   "outputs": [
    {
     "data": {
      "text/plain": [
       "[<table>\n",
       " <tr>\n",
       " <th>House Size</th>\n",
       " <th>Num of Rooms</th>\n",
       " <th class=\"bg-yellow\">Has Garden</th>\n",
       " <th>Price</th>\n",
       " </tr>\n",
       " <tr>\n",
       " <td>120</td>\n",
       " <td>3</td>\n",
       " <td>yes</td>\n",
       " <td>500000</td>\n",
       " </tr>\n",
       " <tr>\n",
       " <td>140</td>\n",
       " <td>4</td>\n",
       " <td class=\"bg-yellow\">no</td>\n",
       " <td>750000</td>\n",
       " </tr>\n",
       " <tr>\n",
       " <td>80</td>\n",
       " <td>1</td>\n",
       " <td>no</td>\n",
       " <td>300000</td>\n",
       " </tr>\n",
       " </table>]"
      ]
     },
     "execution_count": 39,
     "metadata": {},
     "output_type": "execute_result"
    }
   ],
   "source": [
    "table = soup.find_all('table')\n",
    "table"
   ]
  },
  {
   "cell_type": "code",
   "execution_count": 41,
   "metadata": {},
   "outputs": [
    {
     "data": {
      "text/plain": [
       "[<tr>\n",
       " <th>House Size</th>\n",
       " <th>Num of Rooms</th>\n",
       " <th class=\"bg-yellow\">Has Garden</th>\n",
       " <th>Price</th>\n",
       " </tr>,\n",
       " <tr>\n",
       " <td>120</td>\n",
       " <td>3</td>\n",
       " <td>yes</td>\n",
       " <td>500000</td>\n",
       " </tr>,\n",
       " <tr>\n",
       " <td>140</td>\n",
       " <td>4</td>\n",
       " <td class=\"bg-yellow\">no</td>\n",
       " <td>750000</td>\n",
       " </tr>,\n",
       " <tr>\n",
       " <td>80</td>\n",
       " <td>1</td>\n",
       " <td>no</td>\n",
       " <td>300000</td>\n",
       " </tr>]"
      ]
     },
     "execution_count": 41,
     "metadata": {},
     "output_type": "execute_result"
    }
   ],
   "source": [
    "rows = table[0].find_all('tr')\n",
    "rows"
   ]
  },
  {
   "cell_type": "code",
   "execution_count": 42,
   "metadata": {},
   "outputs": [
    {
     "data": {
      "text/plain": [
       "4"
      ]
     },
     "execution_count": 42,
     "metadata": {},
     "output_type": "execute_result"
    }
   ],
   "source": [
    "len(rows)"
   ]
  },
  {
   "cell_type": "code",
   "execution_count": 49,
   "metadata": {},
   "outputs": [
    {
     "data": {
      "text/plain": [
       "[]"
      ]
     },
     "execution_count": 49,
     "metadata": {},
     "output_type": "execute_result"
    }
   ],
   "source": [
    "rows[0].find_all('td')"
   ]
  },
  {
   "cell_type": "code",
   "execution_count": 44,
   "metadata": {},
   "outputs": [
    {
     "data": {
      "text/plain": [
       "[<th>House Size</th>,\n",
       " <th>Num of Rooms</th>,\n",
       " <th class=\"bg-yellow\">Has Garden</th>,\n",
       " <th>Price</th>]"
      ]
     },
     "execution_count": 44,
     "metadata": {},
     "output_type": "execute_result"
    }
   ],
   "source": [
    "rows[0].find_all('th')"
   ]
  },
  {
   "cell_type": "code",
   "execution_count": 45,
   "metadata": {},
   "outputs": [
    {
     "data": {
      "text/plain": [
       "['House Size', 'Num of Rooms', 'Has Garden', 'Price']"
      ]
     },
     "execution_count": 45,
     "metadata": {},
     "output_type": "execute_result"
    }
   ],
   "source": [
    "[th.get_text() for th in rows[0].find_all('th')]"
   ]
  },
  {
   "cell_type": "code",
   "execution_count": 46,
   "metadata": {},
   "outputs": [
    {
     "data": {
      "text/plain": [
       "[<tr>\n",
       " <td>120</td>\n",
       " <td>3</td>\n",
       " <td>yes</td>\n",
       " <td>500000</td>\n",
       " </tr>,\n",
       " <tr>\n",
       " <td>140</td>\n",
       " <td>4</td>\n",
       " <td class=\"bg-yellow\">no</td>\n",
       " <td>750000</td>\n",
       " </tr>,\n",
       " <tr>\n",
       " <td>80</td>\n",
       " <td>1</td>\n",
       " <td>no</td>\n",
       " <td>300000</td>\n",
       " </tr>]"
      ]
     },
     "execution_count": 46,
     "metadata": {},
     "output_type": "execute_result"
    }
   ],
   "source": [
    "rows[1:]"
   ]
  },
  {
   "cell_type": "code",
   "execution_count": 47,
   "metadata": {},
   "outputs": [],
   "source": [
    "with open(\"table_data.csv\", 'w') as f:\n",
    "    headers = rows[0].find_all('th')\n",
    "    headers_text = [th.get_text() for th in headers]\n",
    "\n",
    "    f.write(f'{headers_text[0]},{headers_text[1]},{headers_text[2]},{headers_text[3]}\\n')\n",
    "\n",
    "    data = rows[1:]\n",
    "    for row in data:\n",
    "        td = row.find_all('td')\n",
    "        td_text = [d.get_text() for d in td]\n",
    "\n",
    "        f.write(f'{td_text[0]},{td_text[1]},{td_text[2]},{td_text[3]}\\n')"
   ]
  },
  {
   "cell_type": "code",
   "execution_count": null,
   "metadata": {},
   "outputs": [],
   "source": []
  }
 ],
 "metadata": {
  "kernelspec": {
   "display_name": "Python 3.8.8 ('base')",
   "language": "python",
   "name": "python3"
  },
  "language_info": {
   "codemirror_mode": {
    "name": "ipython",
    "version": 3
   },
   "file_extension": ".py",
   "mimetype": "text/x-python",
   "name": "python",
   "nbconvert_exporter": "python",
   "pygments_lexer": "ipython3",
   "version": "3.8.8 (default, Apr 13 2021, 15:08:03) [MSC v.1916 64 bit (AMD64)]"
  },
  "orig_nbformat": 4,
  "vscode": {
   "interpreter": {
    "hash": "9613fa619a5abe265531a405082e61ff5943f08fda061f0dbdc81668a4e29970"
   }
  }
 },
 "nbformat": 4,
 "nbformat_minor": 2
}
